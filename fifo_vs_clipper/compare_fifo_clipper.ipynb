{
 "cells": [
  {
   "cell_type": "code",
   "execution_count": 1,
   "source": [
    "from importlib import reload\n",
    "from pathlib import Path\n",
    "\n",
    "import pandas as pd\n",
    "import numpy as np\n",
    "import matplotlib.pyplot as plt\n",
    "\n",
    "import plotutils as pu\n",
    "reload(pu)\n",
    "\n",
    "%matplotlib widget"
   ],
   "outputs": [],
   "metadata": {}
  },
  {
   "cell_type": "code",
   "execution_count": 2,
   "source": [
    "def read(name):\n",
    "    jobs = pd.read_csv(Path('../log/bs20') / name / 'jobs.csv')\n",
    "    return jobs\n",
    "\n",
    "def write(name, df):\n",
    "    df.to_csv(Path('../log/bs20') / name / 'jobs.csv', index=False)\n",
    "    pass\n",
    "\n",
    "def compare(j1, j2, n1, n2, bs, figsize=(8, 8)):\n",
    "    fig = plt.figure(figsize=figsize, constrained_layout=True)\n",
    "    axs = fig.subplot_mosaic('''AD\n",
    "                                AD\n",
    "                                BE\n",
    "                                BE\n",
    "                                CF\n",
    "                                ''')\n",
    "    ax = pu.cdf(j1.Length, ax=axs['A'])\n",
    "    ax.set_ylabel('CDF')\n",
    "    ax.set_xlabel('Length ('+n1+')')\n",
    "    \n",
    "    ax = pu.cdf(j1.Latency, ax=axs['B'])\n",
    "    ax.set_ylabel('CDF')\n",
    "    ax.set_xlabel('Latency ('+n1+')')\n",
    "    \n",
    "    # percentage\n",
    "    ax = axs['C']\n",
    "    total = len(j1)\n",
    "    states = ['past_due', 'done']\n",
    "    pos = np.arange(len(states))\n",
    "    data = [\n",
    "        len(j1.State[j1.State == state]) / total\n",
    "        for state in states\n",
    "    ]\n",
    "    ax.barh(pos, data, align='center')\n",
    "    for x, y in zip(data, pos):\n",
    "        pu.bar_show_data(x, y, data_y=x, fmt='{:.0%}', ax=ax, xytext=(4, 0), horizontalalignment='left', verticalalignment='center')\n",
    "    pu.cleanup_axis_categorical(ax.yaxis, states)\n",
    "    pu.cleanup_axis_percent(ax.xaxis, xmax=1.0)\n",
    "    ax.set_xlabel('Percentage ('+n1+')')\n",
    "    \n",
    "    ax = pu.cdf(j2.Length, ax=axs['D'])\n",
    "    ax.set_ylabel('CDF')\n",
    "    ax.set_xlabel('Length ('+n2+')')\n",
    "    \n",
    "    ax = pu.cdf(j2.Latency, ax=axs['E'])\n",
    "    ax.set_ylabel('CDF')\n",
    "    ax.set_xlabel('Latency ('+n2+')')\n",
    "    \n",
    "    # percentage\n",
    "    ax = axs['F']\n",
    "    total = len(j2)\n",
    "    states = ['past_due', 'done']\n",
    "    pos = np.arange(len(states))\n",
    "    data = [\n",
    "        len(j2.State[j2.State == state]) / total\n",
    "        for state in states\n",
    "    ]\n",
    "    ax.barh(pos, data, align='center')\n",
    "    for x, y in zip(data, pos):\n",
    "        pu.bar_show_data(x, y, data_y=x, fmt='{:.0%}', ax=ax, xytext=(4, 0), horizontalalignment='left', verticalalignment='center')\n",
    "    pu.cleanup_axis_categorical(ax.yaxis, states)\n",
    "    pu.cleanup_axis_percent(ax.xaxis, xmax=1.0)\n",
    "    ax.set_xlabel('Percentage ('+n2+')')\n",
    "    # utilizations\n",
    "    #ax = axs['U']\n",
    "    size = len(j2)\n",
    "    deadline = int(j2.iloc[0]['Deadline'] - j2.iloc[0]['Admitted'])\n",
    "    print(deadline)\n",
    "    fig.suptitle(\"total(\"+str(size)+\")_bs(\"+str(bs)+\")_ddl(\"+str(deadline)+\")\")\n",
    "    return fig, axs"
   ],
   "outputs": [],
   "metadata": {}
  },
  {
   "cell_type": "code",
   "execution_count": 21,
   "source": [
    "fifo = read('fifo')\n",
    "fifo['Latency'] = fifo.Finished - fifo.Admitted\n",
    "fifo.loc[fifo[\"Finished\"]>fifo[\"Deadline\"], \"State\"]= \"past_due\"\n",
    "fifo.loc[fifo[\"Finished\"]>fifo[\"Deadline\"], \"Latency\"]= np.nan\n",
    "write('fifo', fifo)"
   ],
   "outputs": [],
   "metadata": {}
  },
  {
   "cell_type": "code",
   "execution_count": 27,
   "source": [
    "!python async_dynamic_test.py ../log/bs20/fifo/jobs.csv --output ../log/bs20/clipper/latency.csv"
   ],
   "outputs": [],
   "metadata": {}
  },
  {
   "cell_type": "code",
   "execution_count": 23,
   "source": [
    "clipper = fifo.copy()\n",
    "clipper_rst = pd.read_csv(Path('../log/bs20/clipper/latency.csv'))\n",
    "clipper[\"Started\"] = clipper_rst[\"Timestamp\"]\n",
    "clipper[\"Latency\"] = clipper_rst[\"LatencyUS\"]/1000\n",
    "clipper[\"Finished\"] = clipper[\"Started\"] + clipper[\"Latency\"]\n",
    "clipper[\"State\"] = clipper_rst[\"State\"]\n",
    "clipper.loc[clipper[\"Finished\"]>clipper[\"Deadline\"], \"State\"]= \"past_due\"\n",
    "clipper.loc[clipper[\"State\"]==\"error\", \"State\"]= \"past_due\"\n",
    "clipper.loc[clipper[\"Finished\"]>clipper[\"Deadline\"], \"Latency\"]= np.nan\n",
    "write('clipper', clipper)"
   ],
   "outputs": [],
   "metadata": {}
  },
  {
   "cell_type": "code",
   "execution_count": 24,
   "source": [
    "bs = 20\n",
    "fig, _ = compare(fifo, clipper, \"fifo\", \"clipper\", bs, (10,10))"
   ],
   "outputs": [
    {
     "output_type": "display_data",
     "data": {
      "text/plain": [
       "Canvas(toolbar=Toolbar(toolitems=[('Home', 'Reset original view', 'home', 'home'), ('Back', 'Back to previous …"
      ],
      "application/vnd.jupyter.widget-view+json": {
       "version_major": 2,
       "version_minor": 0,
       "model_id": "dd428645e722435eb34c59ec51b8cf67"
      }
     },
     "metadata": {}
    },
    {
     "output_type": "stream",
     "name": "stdout",
     "text": [
      "230\n"
     ]
    }
   ],
   "metadata": {}
  }
 ],
 "metadata": {
  "kernelspec": {
   "name": "python3",
   "display_name": "Python 3.7.10 64-bit ('clipper': conda)"
  },
  "language_info": {
   "codemirror_mode": {
    "name": "ipython",
    "version": 3
   },
   "file_extension": ".py",
   "mimetype": "text/x-python",
   "name": "python",
   "nbconvert_exporter": "python",
   "pygments_lexer": "ipython3",
   "version": "3.7.10"
  },
  "interpreter": {
   "hash": "717f4a39b0fdd059262c701c2d028a945d9b49ac3884e10e20f795d0954b41a8"
  }
 },
 "nbformat": 4,
 "nbformat_minor": 4
}